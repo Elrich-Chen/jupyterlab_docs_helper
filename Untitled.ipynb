{
 "cells": [
  {
   "cell_type": "code",
   "execution_count": 2,
   "id": "ec7f36bb-9108-4ef5-8a58-99f6a4ff0d7e",
   "metadata": {},
   "outputs": [
    {
     "name": "stderr",
     "output_type": "stream",
     "text": [
      "UsageError: Cell magic `%%ai` not found.\n"
     ]
    }
   ],
   "source": [
    "%%ai ollama:llama3.1\n",
    "You are a helpful technical writer. Read the Python code below and produce a concise, *reader-first* Markdown cell that explains:\n",
    "- What it does\n",
    "- Key steps or algorithm\n",
    "- Important caveats or gotchas\n",
    "Write **only** Markdown (no preface, no code fences unless needed). Keep it under 12 lines.\n",
    "\n",
    "Code to explain:\n",
    "```python\n",
    "5+5\n",
    "```\n"
   ]
  },
  {
   "cell_type": "markdown",
   "id": "3e14d7bc-0e0f-4dd5-a274-d27698153a89",
   "metadata": {},
   "source": [
    "UsageError: Cell magic `%%ai` not found."
   ]
  },
  {
   "cell_type": "markdown",
   "id": "4b723e6c-fbcd-4153-ac16-42aa210064e5",
   "metadata": {},
   "source": [
    "**Code Description**\n",
    "====================\n",
    "Adds two numbers together and prints the result.\n",
    "\n",
    "**Key Steps**\n",
    "------------\n",
    "\n",
    "*   The code simply adds 5 and 5 together.\n",
    "*   Python evaluates the expression and outputs the result.\n",
    "\n",
    "**Caveats**\n",
    "----------\n",
    "\n",
    "*   No input validation or error handling is included.\n",
    "*   This is a very basic example and not typically what you would use in production code.\n",
    "\n",
    "### Output\n",
    "5"
   ]
  },
  {
   "cell_type": "code",
   "execution_count": 1,
   "id": "6ccabe89-aa82-495b-957c-f21bd92b3cb1",
   "metadata": {},
   "outputs": [
    {
     "data": {
      "text/plain": [
       "10"
      ]
     },
     "execution_count": 1,
     "metadata": {},
     "output_type": "execute_result"
    }
   ],
   "source": [
    "5+5"
   ]
  },
  {
   "cell_type": "code",
   "execution_count": 2,
   "id": "d361f2cb-c5e0-4ca3-961d-ccb9009d25e4",
   "metadata": {},
   "outputs": [],
   "source": [
    "%load_ext jupyter_ai_magics\n"
   ]
  },
  {
   "cell_type": "code",
   "execution_count": null,
   "id": "a49bb2a6-1e5d-4bad-bc1a-1facc8786feb",
   "metadata": {},
   "outputs": [],
   "source": []
  }
 ],
 "metadata": {
  "kernelspec": {
   "display_name": "Python 3 (ipykernel)",
   "language": "python",
   "name": "python3"
  },
  "language_info": {
   "codemirror_mode": {
    "name": "ipython",
    "version": 3
   },
   "file_extension": ".py",
   "mimetype": "text/x-python",
   "name": "python",
   "nbconvert_exporter": "python",
   "pygments_lexer": "ipython3",
   "version": "3.12.5"
  }
 },
 "nbformat": 4,
 "nbformat_minor": 5
}
