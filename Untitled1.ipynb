{
 "cells": [
  {
   "cell_type": "code",
   "execution_count": 2,
   "id": "313d749c-3f81-4e64-9d53-9f2896aea0e7",
   "metadata": {},
   "outputs": [
    {
     "data": {
      "text/plain": [
       "10"
      ]
     },
     "execution_count": 2,
     "metadata": {},
     "output_type": "execute_result"
    }
   ],
   "source": [
    "5+5"
   ]
  },
  {
   "cell_type": "code",
   "execution_count": 3,
   "id": "e57918c8-5bc0-4576-ae53-169acb90b781",
   "metadata": {},
   "outputs": [
    {
     "name": "stderr",
     "output_type": "stream",
     "text": [
      "UsageError: Cell magic `%%ai` not found.\n"
     ]
    }
   ],
   "source": [
    "%%ai ollama:llama3.1\n",
    "Say hi in one short sentence."
   ]
  },
  {
   "cell_type": "code",
   "execution_count": 4,
   "id": "e12d1656-a282-4afc-adf0-b95fda4fac74",
   "metadata": {},
   "outputs": [],
   "source": [
    "%load_ext jupyter_ai_magics"
   ]
  },
  {
   "cell_type": "code",
   "execution_count": 5,
   "id": "d16177d7-33ac-411c-ba5a-82936eac156f",
   "metadata": {},
   "outputs": [
    {
     "data": {
      "text/markdown": [
       "Hello!"
      ],
      "text/plain": [
       "<IPython.core.display.Markdown object>"
      ]
     },
     "execution_count": 5,
     "metadata": {
      "text/markdown": {
       "jupyter_ai": {
        "model_id": "llama3.1",
        "provider_id": "ollama"
       }
      }
     },
     "output_type": "execute_result"
    }
   ],
   "source": [
    "%%ai ollama:llama3.1\n",
    "Say hi in one short sentence."
   ]
  },
  {
   "cell_type": "markdown",
   "id": "c47bcf21-8588-42b5-92f0-bfa09af269c5",
   "metadata": {},
   "source": [
    "UsageError: Cell magic `%%ai` not found."
   ]
  },
  {
   "cell_type": "code",
   "execution_count": 17,
   "id": "5fe17a53-992d-44f2-9cce-103330f857ac",
   "metadata": {},
   "outputs": [
    {
     "data": {
      "text/markdown": [
       "**Code Explanation**\n",
       "====================\n",
       "\n",
       "### What it Does\n",
       "-----------------\n",
       "\n",
       "Evaluates the expression `5+5` and implicitly prints the result.\n",
       "\n",
       "### Key Steps\n",
       "--------------\n",
       "\n",
       "1. Evaluates expression `5+5`.\n",
       "2. Implicitly returns integer result `10`.\n",
       "\n",
       "### Caveats\n",
       "----------\n",
       "\n",
       "* Only works in interactive Python environments (e.g., IPython).\n",
       "* Not a valid executable code block due to lack of explicit print statement or function call.\n",
       "\n",
       "**Output**\n",
       "----------\n",
       "\n",
       "10"
      ],
      "text/plain": [
       "<IPython.core.display.Markdown object>"
      ]
     },
     "execution_count": 17,
     "metadata": {
      "text/markdown": {
       "jupyter_ai": {
        "model_id": "llama3.1",
        "provider_id": "ollama"
       }
      }
     },
     "output_type": "execute_result"
    }
   ],
   "source": [
    "%%ai ollama:llama3.1\n",
    "    You are a helpful technical writer. Explain this Python code in concise Markdown:\n",
    "    - What it does\n",
    "    - Key steps\n",
    "    - Caveats\n",
    "    Write ONLY Markdown. ≤ 12 lines.\n",
    "\n",
    "    ```python\n",
    "    5+5\n",
    "    ```\n",
    "    "
   ]
  },
  {
   "cell_type": "code",
   "execution_count": 1,
   "id": "2ba07dee-5ce6-42ab-8f67-7f4f03ea366f",
   "metadata": {},
   "outputs": [
    {
     "data": {
      "text/plain": [
       "10"
      ]
     },
     "execution_count": 1,
     "metadata": {},
     "output_type": "execute_result"
    }
   ],
   "source": [
    "5+5"
   ]
  },
  {
   "cell_type": "code",
   "execution_count": 3,
   "id": "d7c5d15e-1866-4254-8dd1-eabb9d38d8db",
   "metadata": {},
   "outputs": [],
   "source": [
    "%load_ext jupyter_ai_magics"
   ]
  },
  {
   "cell_type": "code",
   "execution_count": 14,
   "id": "e1c3fb36-189e-4945-aad3-ea97cf596dfa",
   "metadata": {},
   "outputs": [
    {
     "data": {
      "text/markdown": [
       "**Code Explanation**\n",
       "====================\n",
       "\n",
       "### What it Does\n",
       "-----------------\n",
       "\n",
       "Asks user for a number, checks if it's even, and prints \"hello\" if true.\n",
       "\n",
       "### Key Steps\n",
       "--------------\n",
       "\n",
       "1. Asks user to input a number.\n",
       "2. Converts input to integer using `int()`.\n",
       "3. Checks if the input number is even using modulo operation.\n",
       "4. If even, prints \"hello\".\n",
       "\n",
       "### Caveats\n",
       "----------\n",
       "\n",
       "* No validation for non-integer inputs.\n",
       "* Prints nothing if input is not even.\n",
       "\n",
       "**Output**\n",
       "----------\n",
       "\n",
       "```\n",
       "heelo\n",
       "```"
      ],
      "text/plain": [
       "<IPython.core.display.Markdown object>"
      ]
     },
     "execution_count": 14,
     "metadata": {
      "text/markdown": {
       "jupyter_ai": {
        "model_id": "llama3.1",
        "provider_id": "ollama"
       }
      }
     },
     "output_type": "execute_result"
    }
   ],
   "source": [
    "%%ai ollama:llama3.1\n",
    "    You are a helpful technical writer. Explain this Python code in concise Markdown:\n",
    "    - What it does\n",
    "    - Key steps\n",
    "    - Caveats\n",
    "    Write ONLY Markdown. ≤ 12 lines.\n",
    "\n",
    "    ```python\n",
    "    num= int(input(\"num\"))\n",
    "\n",
    "if(num%2 ==0):\n",
    "    print(\"heelo\")\n",
    "\n",
    "    ```\n",
    "    "
   ]
  },
  {
   "cell_type": "markdown",
   "id": "1278b889-f620-463a-ae4f-a9d9fc8e6548",
   "metadata": {},
   "source": [
    "**Code Explanation**\n",
    "====================\n",
    "\n",
    "### What it Does\n",
    "-----------------\n",
    "\n",
    "Prompts the user for an integer input, checks if it's even, and prints \"heelo\" if true.\n",
    "\n",
    "### Key Steps\n",
    "--------------\n",
    "\n",
    "1. Asks user to enter a number using `input()`.\n",
    "2. Converts input to integer using `int()` function.\n",
    "3. Checks if number is even using modulo operator `%` and condition `if (num % 2 == 0)`.\n",
    "4. Prints \"heelo\" if number is even.\n",
    "\n",
    "### Caveats\n",
    "----------\n",
    "\n",
    "* Does not handle invalid user inputs (e.g., non-numeric input).\n",
    "* Always prints \"heelo\" when an even number is entered; no further action is taken."
   ]
  },
  {
   "cell_type": "code",
   "execution_count": null,
   "id": "0a491547-7f57-4fc7-ac5d-c17695b448ad",
   "metadata": {},
   "outputs": [],
   "source": [
    "%%ai ollama:llama3.1\n",
    "    You are a helpful technical writer. Explain this Python code in concise Markdown:\n",
    "    - What it does\n",
    "    - Key steps\n",
    "    - Caveats\n",
    "    Write ONLY Markdown. ≤ 12 lines.\n",
    "\n",
    "    ```python\n",
    "    num= int(input(\"num\"))\n",
    "\n",
    "if(num%2 ==0):\n",
    "    print(\"heelo\")\n",
    "\n",
    "    ```\n",
    "    "
   ]
  },
  {
   "cell_type": "code",
   "execution_count": 12,
   "id": "d2bd3a0a-1738-4fb5-9593-256744e27ab2",
   "metadata": {
    "scrolled": true
   },
   "outputs": [
    {
     "name": "stdin",
     "output_type": "stream",
     "text": [
      "num 10\n"
     ]
    },
    {
     "name": "stdout",
     "output_type": "stream",
     "text": [
      "heelo\n"
     ]
    }
   ],
   "source": [
    "num= int(input(\"num\"))\n",
    "\n",
    "if(num%2 ==0):\n",
    "    print(\"heelo\")\n"
   ]
  },
  {
   "cell_type": "code",
   "execution_count": null,
   "id": "a4187ee4-56a5-40f2-af0b-c4d9ac67b3b1",
   "metadata": {},
   "outputs": [],
   "source": []
  },
  {
   "cell_type": "code",
   "execution_count": null,
   "id": "187c62e8-7845-49c0-8b19-f7bb889efbd0",
   "metadata": {},
   "outputs": [],
   "source": []
  },
  {
   "cell_type": "code",
   "execution_count": null,
   "id": "75a667f3-c055-46e4-8fd1-c2d50c1b9315",
   "metadata": {},
   "outputs": [],
   "source": []
  },
  {
   "cell_type": "code",
   "execution_count": null,
   "id": "07fdeeb3-f3d5-4565-8ae2-15125612fa70",
   "metadata": {},
   "outputs": [],
   "source": []
  }
 ],
 "metadata": {
  "kernelspec": {
   "display_name": "Python 3 (ipykernel)",
   "language": "python",
   "name": "python3"
  },
  "language_info": {
   "codemirror_mode": {
    "name": "ipython",
    "version": 3
   },
   "file_extension": ".py",
   "mimetype": "text/x-python",
   "name": "python",
   "nbconvert_exporter": "python",
   "pygments_lexer": "ipython3",
   "version": "3.12.5"
  }
 },
 "nbformat": 4,
 "nbformat_minor": 5
}
